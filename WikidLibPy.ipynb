{
 "cells": [
  {
   "cell_type": "markdown",
   "metadata": {},
   "source": [
    "# WikidLib Python Notebook\n",
    "\n",
    "## WikidLib\n",
    "WikidPad Extensions and Helper library for WikidPad. \n",
    "Incorporates the older projects:WikidSets, WikidTags, etc.\n",
    "\n",
    "## Initial Features\n",
    "Simple text based appending to wikipages, creating the WikiPage if necessary.\n",
    "Will be invoked by AlfredScript and CommandLine and store in a flat-file local wiki, like WikidPad\n",
    " \n",
    "### WikidWorker Module / Class\n",
    "\n",
    "**IsWiki ( folder_path):**\n",
    "    true if there is a wiki there\n",
    "\n",
    "**OpenWiki (folder_path):**\n",
    "    returns a WikiClass\n",
    "\n",
    "**CopyWiki (folder_path_src, folder_path_dest):**\n",
    "\n",
    "**CopyWikiPageSet (wikipage_set, src_wiki, destination_wiki):**\n",
    "\n",
    "### WikidWiki Class\n",
    "     * SetDataFolder (folder_path)\n",
    "     * GetWikiPage (wikipage_name)\n",
    "     * CreateWikiPage (wikipage_name)\n",
    "     * GetWikiPageAsString()\n",
    "     * SetWikiPageFromString(new_page_as_string)\n",
    "     * GetPageSet (Tag_Set)\n",
    "     * GetPageSet (Category_Set)\n",
    "     * GetPageSet (list_of_page_names)\n",
    "     * GetAllPages () --> returns all pages\n",
    "     * getMatchingPages(functionPageFilter())\n",
    "\n",
    "\n",
    "# another spec. ..\n",
    "\n",
    "\n",
    "## Functions / Methods\n",
    "    [/GetPageList]\n",
    "    [/FindPages]\n",
    "    [/SearchPages]\n",
    "    [/MakeSubPage]\n",
    "\n",
    "    WikidpadOpenPage / [/OpenPage]  [//WikidLib/OpenPage]\n",
    "    [/IsAlias]\n",
    "    [/FindAliased]\n",
    "\n",
    "### tag / category functions\n",
    "    Convert from WikidpadTags to WikidpadCategories and vice versa\n",
    "    [/FindTagOrCategory]\n",
    "    [/RenameTag]\n",
    "\n",
    "### symantic\n",
    "    [/MetaTagFunctions]\n",
    "\n",
    "### interwikis\n",
    "    [/MovePage] (to another wiki)\n",
    "    [/CopyPage] (to another wiki)"
   ]
  },
  {
   "cell_type": "markdown",
   "metadata": {},
   "source": [
    "# TESTS and Proof of Concepts\n",
    "\n",
    "## ReadFileSystem"
   ]
  },
  {
   "cell_type": "code",
   "execution_count": 1,
   "metadata": {
    "collapsed": true
   },
   "outputs": [],
   "source": [
    "import sys"
   ]
  },
  {
   "cell_type": "code",
   "execution_count": 2,
   "metadata": {
    "collapsed": true
   },
   "outputs": [],
   "source": [
    "def ReadFileSystem():\n",
    "    #find out if we can touch file system from Jupyter\n",
    "    f = open('test.txt', 'w')\n",
    "    f.write('This is a test\\n')\n",
    "    \n",
    "ReadFileSystem()"
   ]
  },
  {
   "cell_type": "code",
   "execution_count": 3,
   "metadata": {
    "collapsed": true
   },
   "outputs": [],
   "source": [
    "# TEST nose \n",
    "def solution (a,b):\n",
    "    return a+b"
   ]
  },
  {
   "cell_type": "code",
   "execution_count": 5,
   "metadata": {},
   "outputs": [
    {
     "name": "stdout",
     "output_type": "stream",
     "text": [
      "ALL TEST CASES PASSED\n"
     ]
    }
   ],
   "source": [
    "from nose.tools import assert_equal\n",
    "\n",
    "class SolutionTest(object):\n",
    "    \n",
    "    def test(self,sol):\n",
    "        assert_equal(sol(2,2),4)\n",
    "        assert_equal(sol(1,2),3)\n",
    "        \n",
    "        print(\"ALL TEST CASES PASSED\")\n",
    "        \n",
    "# run tests ...\n",
    "t = SolutionTest()\n",
    "t.test(solution)\n"
   ]
  },
  {
   "cell_type": "markdown",
   "metadata": {},
   "source": [
    "... takes over from ... PyWikiWorker (was going to be WikiThing)\n",
    "\n",
    "Python tools for working with wikis. Initially will focus on standalone text based wikis - and have an interface implemented for WikidPad.\n",
    "\n",
    "## Initial Features\n",
    "Simple text based appending to wikipages, creating the WikiPage if necessary.\n",
    "Will be invoked by AlfredScript and CommandLine and store in a flat-file local wiki, like WikidPad\n",
    " \n",
    "#### WikiWorkerClass\n",
    "* FindWiki (wiki_name)\n",
    "* OpenWiki (folder_path) --> returns a WikiClass\n",
    "* CopyWiki (folder_path_src, folder_path_dest)\n",
    "* CopyWikiPageSet (wikipage_set, src_wiki, destination_wiki)\n",
    "\n",
    "#### WikiClass\n",
    " * SetDataFolder (folder_path)\n",
    " * GetWikiPage (wikipage_name)\n",
    " * CreateWikiPage (wikipage_name)\n",
    " * GetWikiPageAsString()\n",
    " * SetWikiPageFromString(new_page_as_string)\n",
    " * GetPageSet (Tag_Set)\n",
    " * GetPageSet (Category_Set)\n",
    " * GetPageSet (list_of_page_names)\n",
    " * GetAllPages () --> returns all pages\n",
    " \n",
    " \n",
    "## Potential Features / Down the line\n",
    "Has potential to grow to a set of tools + library + GUI tools for doing Wiki related tasks, and for advanced mining, browsing and searching of a wiki."
   ]
  },
  {
   "cell_type": "code",
   "execution_count": null,
   "metadata": {
    "collapsed": true
   },
   "outputs": [],
   "source": []
  }
 ],
 "metadata": {
  "kernelspec": {
   "display_name": "Python 3",
   "language": "python",
   "name": "python3"
  },
  "language_info": {
   "codemirror_mode": {
    "name": "ipython",
    "version": 3
   },
   "file_extension": ".py",
   "mimetype": "text/x-python",
   "name": "python",
   "nbconvert_exporter": "python",
   "pygments_lexer": "ipython3",
   "version": "3.6.2"
  }
 },
 "nbformat": 4,
 "nbformat_minor": 1
}
