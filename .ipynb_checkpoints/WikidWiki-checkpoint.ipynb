{
 "cells": [
  {
   "cell_type": "markdown",
   "metadata": {},
   "source": [
    "# WikidWiki Class Description\n",
    "\n",
    "## attributes\n",
    "    rootfolder\n",
    "    datafolder\n",
    "    pages[]: list of all pages\n",
    "    pageCount\n",
    "    \n",
    "## methods\n",
    "    __init__(folder_path)\n",
    "    getAllPageNames () --> returns all pages    getWikiPage (wikipage_name)\n",
    "    getMatchingPages(functionPageFilter())\n",
    "    \n",
    "    createWikiPage (wikipage_name)\n",
    "    getWikiPageAsString()\n",
    "    setWikiPageFromString(new_page_as_string)\n",
    "    getPageSet (Tag_Set)\n",
    "    getPageSet (Category_Set)\n",
    "    getPageSet (list_of_page_names)\n",
    "\n",
    "\n"
   ]
  },
  {
   "cell_type": "markdown",
   "metadata": {},
   "source": [
    "## WikidWiki Class:"
   ]
  },
  {
   "cell_type": "code",
   "execution_count": 78,
   "metadata": {
    "collapsed": false
   },
   "outputs": [],
   "source": [
    "import os,glob\n",
    "import mmap\n",
    "\n",
    "from WikidWorker import hasWiki\n",
    "\n",
    "class WikidWiki(object):\n",
    "    \n",
    "    def __init__(self,folder_path):\n",
    "        \"\"\"Construct a WikidWiki class using the folder_path as string.\"\"\"\n",
    "        # raise error if folder path doesn't exist or contains no wiki:\n",
    "        if not os.path.exists(folder_path):\n",
    "            raise Exception(\"folder \" + folder_path + \" does not exist!\")\n",
    "        if not hasWiki(folder_path):\n",
    "            raise Exception(\"folder \" + folder_path + \" does not contain a wiki!\")\n",
    "\n",
    "        #set attributes:\n",
    "        self.rootfolder = folder_path\n",
    "        self.datafolder = os.path.join(folder_path,'data')\n",
    "        self.readFileSystem()\n",
    "        \n",
    "    def readFileSystem(self):\n",
    "        \"\"\"Populates the PageName attributes of WikidWiki class from the filesystem\"\"\"\n",
    "        self.pageNames = self.getAllPageNames()\n",
    "        self.pageNamesSet = set(self.pageNames)\n",
    "        self.pageCount = len(self.pageNames)\n",
    "    \n",
    "    def __extractWikiFileNamesFromPath(self,wikiFilePath):\n",
    "        filename = os.path.split(wikiFilePath)[1]\n",
    "        return os.path.splitext(filename)[0]\n",
    "\n",
    "    def __getFilePathFromPageName(self,pageName):\n",
    "        filename = os.path.join(self.datafolder,\"%s.wiki\" % pageName)\n",
    "        return filename    \n",
    "    \n",
    "    def getAllPageNames(self):\n",
    "        \"\"\"Returns a list of PageNames found in data folder.\"\"\"\n",
    "        filePathList = glob.glob(self.datafolder +'/*.wiki')\n",
    "        return [self.__extractWikiFileNamesFromPath(x) for x in filePathList]\n",
    "    \n",
    "    def getMatchingPageNamesByFunction(self,matchFunction,matchValue=\"\"):\n",
    "        \"\"\" Passed a match function and a match value to filter pages\n",
    "            Returns list of pageNames that return true when processed by function matchFunction(matchValue,pagename)\n",
    "        \"\"\"\n",
    "        self.pageNames = self.getAllPageNames()\n",
    "        if matchValue:\n",
    "            return [x for x in self.pageNames if matchFunction(matchValue,x)]\n",
    "        else:\n",
    "            return [x for x in self.pageNames if matchFunction(x)]            \n",
    "\n",
    "    def doesPageContainStringLowMem(self,pageName,srchstr):\n",
    "        filepath = self.__getFilePathFromPageName(pageName)\n",
    "        \n",
    "        if os.stat(filepath).st_size > 0:\n",
    "            f = open(filepath)\n",
    "            s = mmap.mmap(f.fileno(), 0, access=mmap.ACCESS_READ)\n",
    "            return s.find(srchstr) != -1\n",
    "        return False\n",
    "    \n",
    "    def doesPageContainString(self,pageName,srchstr):\n",
    "        filepath = self.__getFilePathFromPageName(pageName)\n",
    "        return srchstr in open(filepath).read()\n",
    "\n",
    "    def getPageNamesContainingSearchString(self,srchstr):\n",
    "        \"\"\"Returns list of pageNames that contain the srchstr in their content\"\"\"\n",
    "        return [x for x in self.pageNames if self.doesPageContainString(x,srchstr)]  \n",
    "    \n",
    "    def getPageNamesContainingSearchStringLowMem(self,srchstr):\n",
    "        \"\"\"Returns list of pageNames that contain the srchstr in their content\"\"\"\n",
    "        return [x for x in self.pageNames if self.doesPageContainStringLowMem(x,srchstr)] "
   ]
  },
  {
   "cell_type": "code",
   "execution_count": 81,
   "metadata": {
    "collapsed": false
   },
   "outputs": [
    {
     "name": "stdout",
     "output_type": "stream",
     "text": [
      "366\n",
      "2266\n",
      "['BidTravelContacts', 'BidTravelFA', 'BtFaAttachmentInventory', 'BtFaBarryPaintingsDisk', 'BtFaDevSrvMountOffsets', 'BtFaDisks', 'BtFaLeads', 'BtFaLog', 'BtFaMeetingApplicants20121112', 'BtFaMeetings', 'BtFaMyMarketDevTeamMeeting', 'BtFaPrimarySite', 'BtFaReport20121004', 'BtFaReport20121012', 'BtFaReport20121204', 'BtFaReportNotes', 'BtFaReports', 'BtFaSearchesTodo', 'BtFaSearchNotes', 'BtFASearchResultsVerified', 'BtFaSearchTrack', 'BtFaSheriff', 'BtFaSheriff01', 'BtFaTechnicalRiders', 'BtFaTfsNotes', 'BtFaTodo', 'NewtProjects', 'SQLServer', 'TravelIT']\n",
      "\n",
      "['AbstractDataTypes', 'AdobeCS3', 'AnjutaIDE', 'ArchiveScripts', 'ArsDigitaCourses', 'AspNet', 'AtomShell', 'AumUI', 'AutoGenTags', 'AutoRunScript', 'BeSpin', 'BitBucket', 'BradleyWood', 'BranchAndLeavesGUI', 'ByteOfPython', 'BzR', 'CategoryDev', 'CBuilder', 'CeePlusPlus', 'CeeSharpPassingByRef', 'ChristianZiemski', 'CIPro', 'CleanCode', 'CodeAcademy', 'CodeComplete', 'CodeDebugging', 'CodeKeep', 'CodeProject', 'CoderWall', 'CogHeadWebService', 'CouchDb', 'CppIDEs', 'CreationalDesignPatterns', 'CryptScript', 'CSharp', 'CSharpDevelopersGuideToASPdotNetXMLandADOdotNet', 'CygWin', 'DanIngalls', 'DatesInPython', 'DateStampPlugin', 'DeliciousJSONfeeds', 'DesignPatterns', 'DevelopmentalKnowledgeTool', 'DevWiki', 'DevWikiExternal', 'DiffMerge', 'DirListScript', 'DistributedVersionControl', 'DockeR', 'DotHgrc', 'DotNet', 'DrupalCMS', 'DruSh', 'DrushCmds', 'DrushConfig', 'DrushInstall', 'DynamicJournal', 'EclipseIDE', 'EnCapsulation', 'EvoFrame', 'EvolutionaryAlgorithm', 'FileDict', 'FindPagesByMultipleReferrals', 'FindTodosByTags', 'FlossWeekly', 'FunctionalProgrammingInPython', 'GeneticAlgorithms', 'GerhardReitmayr', 'GetDateEntriesFromJournal', 'GetFilePathScript', 'GetTodoValues', 'GiT', 'GitSetup', 'GoogleWebToolkit', 'GpL', 'GravataR', 'HanselMinutes', 'HgIgnore', 'HTmL', 'HudUI', 'IDe', 'InstallingPythonPackages', 'IntelligentAgent', 'IPython', 'JavaScript', 'JavaWiki', 'JournalScripts', 'JournalView', 'KomodoEdit', 'LinusTorvalds', 'ListComprehensions', 'LogForNet', 'LogVerse', 'MachineLearningInDotNet', 'MercurialSCM', 'MeridianApp', 'MethodDisplayWiki', 'MitComSciAndProgIntro', 'MITopenCourseware', 'MitSystems', 'ModelViewController', 'MyWikidpadExtensions', 'NVu', 'ObjectOrientedProgramming', 'OopDesignWithJava', 'OpenBravo', 'OpenCode', 'OsxIcons', 'ParseTrees', 'PassingVariablesToWikidpadPages', 'PasteBin', 'PluralSight', 'PocketWiki', 'PolyMorphism', 'PowerShell', 'PpcWikiTool', 'PrintToColumns', 'ProgrammersNotepad', 'ProgrammingClassroom', 'ProgrammingLanguage', 'PyEasyInstall', 'PyGoogle', 'PySyncTool', 'PythonBooks', 'PythonCard', 'PythonChallenge', 'PythonDebugging', 'PythonDesignPatterns', 'PythonEgg', 'PythonEnvironmentVariables', 'PythonEvolutionaryFramework', 'PythonSwitchStatement', 'PythonTodoApp', 'PythonUtils', 'PythonWiki', 'PyTTS', 'RapidSVN', 'RedSite', 'RegEx', 'ReSharper', 'RobertVanDerMeijden', 'RSync', 'RubY', 'RubyOnRails', 'SalticomProject', 'ScruM', 'SearchAgent', 'SetAreaScript', 'SignatureSearch', 'SkillsTable', 'SocPen', 'SoftwareDevelopmentPractices', 'SoftwareIdeas', 'SourceForge', 'SourceTreeApp', 'SqL', 'SQLite', 'SqlLIKECondition', 'SqueaK', 'StanisPythonEditor', 'SublimeText', 'SubVersion', 'TAGmetaphor', 'TekPub', 'TheMinusTag', 'TheTagThing', 'ThinkTankerous', 'TobyKurien', 'TomboSyncScripts', 'TowersOfHanoi', 'TshegofatsoManakana', 'TwitterFromCommandline', 'UbuntuNetworking', 'UnicodeDecodeError', 'UniversalTaggingUI', 'UserInterfaceDesign', 'WardCunningham', 'WatchPeopleCode', 'WebDev', 'WebMorse', 'WikidAgent', 'WikidHUD', 'WikidpadBugs', 'WikidpadDev', 'WikidpadDevelopers', 'WikidpadEncryption', 'WikidpadFromSource', 'WikidpadInternalFunctions', 'WikidpadPluginsFramework', 'WikidpadSource', 'WikidpadTaggingUI', 'WikidpadTagPlugins', 'WikidpadTags', 'WikidpadTodos', 'WikidpadUserExtensions', 'WikidpadWebSync', 'WikidpadWiki', 'WikiThing', 'WikiThis', 'WPf', 'WxGlade', 'WxPython', 'XamarinStudio', 'ZomeTools']\n",
      "\n",
      "\n",
      "['BidTravelContacts', 'BidTravelFA', 'BtFaAttachmentInventory', 'BtFaBarryPaintingsDisk', 'BtFaDevSrvMountOffsets', 'BtFaDisks', 'BtFaLeads', 'BtFaLog', 'BtFaMeetingApplicants20121112', 'BtFaMeetings', 'BtFaMyMarketDevTeamMeeting', 'BtFaPrimarySite', 'BtFaReport20121004', 'BtFaReport20121012', 'BtFaReport20121204', 'BtFaReportNotes', 'BtFaReports', 'BtFaSearchesTodo', 'BtFaSearchNotes', 'BtFASearchResultsVerified', 'BtFaSearchTrack', 'BtFaSheriff', 'BtFaSheriff01', 'BtFaTechnicalRiders', 'BtFaTfsNotes', 'BtFaTodo', 'NewtProjects', 'SQLServer', 'TravelIT']\n",
      "\n",
      "['AbstractDataTypes', 'AdobeCS3', 'AnjutaIDE', 'ArchiveScripts', 'ArsDigitaCourses', 'AspNet', 'AtomShell', 'AumUI', 'AutoGenTags', 'AutoRunScript', 'BeSpin', 'BitBucket', 'BradleyWood', 'BranchAndLeavesGUI', 'ByteOfPython', 'BzR', 'CategoryDev', 'CBuilder', 'CeePlusPlus', 'CeeSharpPassingByRef', 'ChristianZiemski', 'CIPro', 'CleanCode', 'CodeAcademy', 'CodeComplete', 'CodeDebugging', 'CodeKeep', 'CodeProject', 'CoderWall', 'CogHeadWebService', 'CouchDb', 'CppIDEs', 'CreationalDesignPatterns', 'CryptScript', 'CSharp', 'CSharpDevelopersGuideToASPdotNetXMLandADOdotNet', 'CygWin', 'DanIngalls', 'DatesInPython', 'DateStampPlugin', 'DeliciousJSONfeeds', 'DesignPatterns', 'DevelopmentalKnowledgeTool', 'DevWiki', 'DevWikiExternal', 'DiffMerge', 'DirListScript', 'DistributedVersionControl', 'DockeR', 'DotHgrc', 'DotNet', 'DrupalCMS', 'DruSh', 'DrushCmds', 'DrushConfig', 'DrushInstall', 'DynamicJournal', 'EclipseIDE', 'EnCapsulation', 'EvoFrame', 'EvolutionaryAlgorithm', 'FileDict', 'FindPagesByMultipleReferrals', 'FindTodosByTags', 'FlossWeekly', 'FunctionalProgrammingInPython', 'GeneticAlgorithms', 'GerhardReitmayr', 'GetDateEntriesFromJournal', 'GetFilePathScript', 'GetTodoValues', 'GiT', 'GitSetup', 'GoogleWebToolkit', 'GpL', 'GravataR', 'HanselMinutes', 'HgIgnore', 'HTmL', 'HudUI', 'IDe', 'InstallingPythonPackages', 'IntelligentAgent', 'IPython', 'JavaScript', 'JavaWiki', 'JournalScripts', 'JournalView', 'KomodoEdit', 'LinusTorvalds', 'ListComprehensions', 'LogForNet', 'LogVerse', 'MachineLearningInDotNet', 'MercurialSCM', 'MeridianApp', 'MethodDisplayWiki', 'MitComSciAndProgIntro', 'MITopenCourseware', 'MitSystems', 'ModelViewController', 'MyWikidpadExtensions', 'NVu', 'ObjectOrientedProgramming', 'OopDesignWithJava', 'OpenBravo', 'OpenCode', 'OsxIcons', 'ParseTrees', 'PassingVariablesToWikidpadPages', 'PasteBin', 'PluralSight', 'PocketWiki', 'PolyMorphism', 'PowerShell', 'PpcWikiTool', 'PrintToColumns', 'ProgrammersNotepad', 'ProgrammingClassroom', 'ProgrammingLanguage', 'PyEasyInstall', 'PyGoogle', 'PySyncTool', 'PythonBooks', 'PythonCard', 'PythonChallenge', 'PythonDebugging', 'PythonDesignPatterns', 'PythonEgg', 'PythonEnvironmentVariables', 'PythonEvolutionaryFramework', 'PythonSwitchStatement', 'PythonTodoApp', 'PythonUtils', 'PythonWiki', 'PyTTS', 'RapidSVN', 'RedSite', 'RegEx', 'ReSharper', 'RobertVanDerMeijden', 'RSync', 'RubY', 'RubyOnRails', 'SalticomProject', 'ScruM', 'SearchAgent', 'SetAreaScript', 'SignatureSearch', 'SkillsTable', 'SocPen', 'SoftwareDevelopmentPractices', 'SoftwareIdeas', 'SourceForge', 'SourceTreeApp', 'SqL', 'SQLite', 'SqlLIKECondition', 'SqueaK', 'StanisPythonEditor', 'SublimeText', 'SubVersion', 'TAGmetaphor', 'TekPub', 'TheMinusTag', 'TheTagThing', 'ThinkTankerous', 'TobyKurien', 'TomboSyncScripts', 'TowersOfHanoi', 'TshegofatsoManakana', 'TwitterFromCommandline', 'UbuntuNetworking', 'UnicodeDecodeError', 'UniversalTaggingUI', 'UserInterfaceDesign', 'WardCunningham', 'WatchPeopleCode', 'WebDev', 'WebMorse', 'WikidAgent', 'WikidHUD', 'WikidpadBugs', 'WikidpadDev', 'WikidpadDevelopers', 'WikidpadEncryption', 'WikidpadFromSource', 'WikidpadInternalFunctions', 'WikidpadPluginsFramework', 'WikidpadSource', 'WikidpadTaggingUI', 'WikidpadTagPlugins', 'WikidpadTags', 'WikidpadTodos', 'WikidpadUserExtensions', 'WikidpadWebSync', 'WikidpadWiki', 'WikiThing', 'WikiThis', 'WPf', 'WxGlade', 'WxPython', 'XamarinStudio', 'ZomeTools']\n"
     ]
    }
   ],
   "source": [
    "# w = WikidWiki('TestWiki')\n",
    "# w = WikidWiki('BadTestWiki')\n",
    "# w.getAllWikiPageNames()\n",
    "\n",
    "#JWiki test:\n",
    "\n",
    "wik = WikidWiki(\"/Users/jaysen/DEV/Projects/WikidLib/NewtWiki\")\n",
    "print wik.pageCount\n",
    "\n",
    "jwik = WikidWiki(\"/Users/jaysen/DEV/Projects/WikidLib/JWiki\")\n",
    "print jwik.pageCount\n",
    "\n",
    "print wik.getPageNamesContainingSearchString(\"BtFa\")\n",
    "print\n",
    "print jwik.getPageNamesContainingSearchString(\"[tag:dev\")\n",
    "print\n",
    "print\n",
    "print wik.getPageNamesContainingSearchStringLowMem(\"BtFa\")\n",
    "print\n",
    "print jwik.getPageNamesContainingSearchStringLowMem(\"[tag:dev\")\n"
   ]
  },
  {
   "cell_type": "markdown",
   "metadata": {},
   "source": [
    "# Automated Tests:"
   ]
  },
  {
   "cell_type": "code",
   "execution_count": 15,
   "metadata": {
    "collapsed": false
   },
   "outputs": [
    {
     "name": "stdout",
     "output_type": "stream",
     "text": [
      "class <__main__.WikidWiki object at 0x10425ed10> - PASSED ALL TESTS\n"
     ]
    }
   ],
   "source": [
    "#TESTS\n",
    "from nose.tools import assert_equal\n",
    "from nose.tools import assert_items_equal\n",
    "\n",
    "\n",
    "\n",
    "class WikidWikiClassTest(object):\n",
    "    \n",
    "    def test(self):      \n",
    "        tc = WikidWiki('TestWiki')\n",
    "        \n",
    "        assert_equal(tc.pageNames,['TestOne', 'TestThree', 'TestTwo'])\n",
    "        assert_equal(tc.pageCount,3)\n",
    "        \n",
    "        assert_items_equal(tc.getMatchingPageNamesByFunction(PageNameContainsStringOne),['TestOne'])\n",
    "        assert_items_equal(tc.getMatchingPageNamesByFunction(PageNameContainsString,'Two'),['TestTwo'])\n",
    "        assert_items_equal(tc.getMatchingPageNamesByFunction(PageNameContainsString,'Three'),['TestThree'])\n",
    "        assert_items_equal(tc.getMatchingPageNamesByFunction(PageNameContainsString,'Test'),['TestOne','TestTwo','TestThree'])\n",
    "        \n",
    "        print 'class ' + str(tc) + ' - PASSED ALL TESTS'\n",
    "                     \n",
    "#run tests\n",
    "def PageNameContainsStringOne(pageName):\n",
    "    return 'One' in pageName\n",
    "\n",
    "def PageNameContainsString(s,pageName):\n",
    "    return s in pageName\n",
    "\n",
    "t = WikidWikiClassTest()\n",
    "t.test()\n"
   ]
  },
  {
   "cell_type": "markdown",
   "metadata": {},
   "source": [
    "## PageNameSet Class"
   ]
  },
  {
   "cell_type": "code",
   "execution_count": 94,
   "metadata": {
    "collapsed": false
   },
   "outputs": [],
   "source": [
    "class PageNameSet (object):\n",
    "    \n",
    "    def __init__(self,pageName):\n",
    "        \n",
    "        self.filePath\n",
    "        self.\n",
    "        \n",
    "        \n",
    "        "
   ]
  }
 ],
 "metadata": {
  "celltoolbar": "Raw Cell Format",
  "kernelspec": {
   "display_name": "Python 2",
   "language": "python",
   "name": "python2"
  },
  "language_info": {
   "codemirror_mode": {
    "name": "ipython",
    "version": 2
   },
   "file_extension": ".py",
   "mimetype": "text/x-python",
   "name": "python",
   "nbconvert_exporter": "python",
   "pygments_lexer": "ipython2",
   "version": "2.7.11"
  }
 },
 "nbformat": 4,
 "nbformat_minor": 0
}
