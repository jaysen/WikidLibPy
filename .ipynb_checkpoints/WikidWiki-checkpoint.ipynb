{
 "cells": [
  {
   "cell_type": "markdown",
   "metadata": {},
   "source": [
    "# WikidWiki Class Description\n",
    "\n",
    "## attributes\n",
    "    rootfolder\n",
    "    datafolder\n",
    "    pages[]: list of all pages\n",
    "    pageCount\n",
    "    \n",
    "## methods\n",
    "    __init__(folder_path)\n",
    "    getAllPageNames () --> returns all pages    getWikiPage (wikipage_name)\n",
    "    getMatchingPages(functionPageFilter())\n",
    "    \n",
    "    createWikiPage (wikipage_name)\n",
    "    getWikiPageAsString()\n",
    "    setWikiPageFromString(new_page_as_string)\n",
    "    getPageSet (Tag_Set)\n",
    "    getPageSet (Category_Set)\n",
    "    getPageSet (list_of_page_names)\n",
    "\n",
    "\n"
   ]
  },
  {
   "cell_type": "markdown",
   "metadata": {},
   "source": [
    "## WikidWiki Class:"
   ]
  },
  {
   "cell_type": "code",
   "execution_count": 8,
   "metadata": {
    "collapsed": false
   },
   "outputs": [],
   "source": [
    "import os,glob\n",
    "import mmap\n",
    "\n",
    "from WikidWorker import hasWiki\n",
    "\n",
    "class WikidWiki(object):\n",
    "    \"\"\"class for working with a wikidpad wiki from the filesystem.\"\"\"\n",
    "\n",
    "    def __init__(self,folder_path):\n",
    "        \"\"\"Construct a WikidWiki class using the folder_path as string.\"\"\"\n",
    "        # raise error if folder path doesn't exist or contains no wiki:\n",
    "        if not os.path.exists(folder_path):\n",
    "            raise Exception(\"folder \" + folder_path + \" does not exist!\")\n",
    "        if not hasWiki(folder_path):\n",
    "            raise Exception(\"folder \" + folder_path + \" does not contain a wiki!\")\n",
    "\n",
    "        #set attributes:\n",
    "        self.rootfolder = folder_path\n",
    "        self.datafolder = os.path.join(folder_path,'data')\n",
    "        self.readFileSystem()\n",
    "        \n",
    "    def readFileSystem(self):\n",
    "        \"\"\"Populates the PageName attributes of WikidWiki class from the filesystem\"\"\"\n",
    "        self.pageNames = self.getAllPageNames()\n",
    "        self.pageNamesSet = set(self.pageNames)\n",
    "        self.pageCount = len(self.pageNames)\n",
    "    \n",
    "    def __extractWikiFileNamesFromPath(self,wikiFilePath):\n",
    "        filename = os.path.split(wikiFilePath)[1]\n",
    "        return os.path.splitext(filename)[0]\n",
    "\n",
    "    def __getFilePathFromPageName(self,pageName):\n",
    "        filename = os.path.join(self.datafolder,\"%s.wiki\" % pageName)\n",
    "        return filename    \n",
    "    \n",
    "    def getAllPageNames(self):\n",
    "        \"\"\"Returns a list of PageNames found in data folder.\"\"\"\n",
    "        filePathList = glob.glob(self.datafolder +'/*.wiki')\n",
    "        return [self.__extractWikiFileNamesFromPath(x) for x in filePathList]\n",
    "    \n",
    "    def getMatchingPageNamesByFunction(self,matchFunction,matchValue=\"\"):\n",
    "        \"\"\" Passed a match function and a match value to filter pages\n",
    "            Returns list of pageNames that return true when processed by function matchFunction(matchValue,pagename)\n",
    "        \"\"\"\n",
    "        self.pageNames = self.getAllPageNames()\n",
    "        if matchValue:\n",
    "            return [x for x in self.pageNames if matchFunction(matchValue,x)]\n",
    "        else:\n",
    "            return [x for x in self.pageNames if matchFunction(x)]            \n",
    "\n",
    "    def doesPageContainStringLowMem(self,pageName,srchstr):\n",
    "        filepath = self.__getFilePathFromPageName(pageName)\n",
    "        \n",
    "        if os.stat(filepath).st_size > 0:\n",
    "            f = open(filepath)\n",
    "            s = mmap.mmap(f.fileno(), 0, access=mmap.ACCESS_READ)\n",
    "            return s.find(srchstr) != -1\n",
    "        return False\n",
    "    \n",
    "    def doesPageContainString(self,pageName,srchstr):\n",
    "        filepath = self.__getFilePathFromPageName(pageName)\n",
    "        return srchstr in open(filepath).read()\n",
    "\n",
    "    def getPageNamesContainingSearchString(self,srchstr):\n",
    "        \"\"\"Returns list of pageNames that contain the srchstr in their content\"\"\"\n",
    "        return [x for x in self.pageNames if self.doesPageContainString(x,srchstr)]  \n",
    "    \n",
    "    def getPageNamesContainingSearchStringLowMem(self,srchstr):\n",
    "        \"\"\"Returns list of pageNames that contain the srchstr in their content\"\"\"\n",
    "        return [x for x in self.pageNames if self.doesPageContainStringLowMem(x,srchstr)] \n",
    "    \n",
    "    def getSetUnionOfPageNameLists(self,pn1,pn2):\n",
    "        \"\"\"Returns the union of pageName lists pn1 and pn2\"\"\"\n",
    "        ps1 = set(pn1)\n",
    "        ps2 = set(pn2)\n",
    "        return ps1 | ps2\n",
    "    \n",
    "    def getSetIntersectionOfPageNameLists(self,pn1,pn2):\n",
    "        \"\"\"Returns the intersection of pageName lists pn1 and pn2\"\"\"\n",
    "        ps1 = set(pn1)\n",
    "        ps2 = set(pn2)\n",
    "        return ps1 & ps2\n",
    "\n",
    "    def getSetDifferenceOfPageNameLists(self,pn1,pn2):\n",
    "        \"\"\"Returns the difference of pageName lists pn1 and pn2\"\"\"\n",
    "        ps1 = set(pn1)\n",
    "        ps2 = set(pn2)\n",
    "        return ps1 - ps2"
   ]
  },
  {
   "cell_type": "code",
   "execution_count": 10,
   "metadata": {
    "collapsed": false
   },
   "outputs": [
    {
     "name": "stdout",
     "output_type": "stream",
     "text": [
      "pagecount = 2266\n",
      "Some searches:\n",
      "pn1 searched by '[tag:hardware' count = 28\n",
      "['AirDroid', 'AppleMac', 'AspireOne', 'BelkinNPlusRouter', 'CellPhone', 'ChangeSataDrive', 'ConsoleGame', 'DovadoUMR', 'HuaweiWifi', 'JDesktop', 'JPaq', 'JWikiOnSdCard', 'LinksysWAG320N', 'LinuxDiskCheck', 'LinuxSsdSettings', 'MacBookPro', 'NaS', 'OczSSD', 'OldJDesk', 'SamsungGalaxyS', 'SamsungGalaxyS5', 'SonyVaioVGNFE11S', 'SonyZ505RX', 'SSd', 'UbuntuSuspendIssue', 'VodacomK3715', 'VodafoneZteK3520z', 'XBox']\n",
      "\n",
      "pn2 searched by '[tag:pc' - count = 33\n",
      "['AppleMac', 'AspireOne', 'BackUpData', 'BlueScreenOfDeath', 'BsD', 'ChangeSataDrive', 'CronVoiceMessage', 'DiskPartitions', 'DotNet', 'EnvironmentVariables', 'FileTagging', 'FireFox', 'FpS', 'GraphicsCard', 'HomeNetwork', 'InstallOsX', 'InstantMessaging', 'LeratoPC', 'LinuxPartitions', 'MacBookPro', 'MacNTFS', 'NtFS', 'OczSSD', 'PcCrashes', 'PortableApps', 'RSync', 'SnapShot', 'SonyZ505RX', 'StartupTodos', 'TextToSpeech', 'UbuntuLinux', 'VirtualBox', 'WindowsCmdLine']\n",
      "\n",
      "ps1 (UnionOf(pn1,pn2)- count = 55\n",
      "set(['BackUpData', 'NtFS', 'SonyZ505RX', 'AirDroid', 'SamsungGalaxyS5', 'EnvironmentVariables', 'ChangeSataDrive', 'CronVoiceMessage', 'AppleMac', 'BsD', 'LinuxDiskCheck', 'UbuntuLinux', 'MacBookPro', 'UbuntuSuspendIssue', 'RSync', 'DovadoUMR', 'TextToSpeech', 'OldJDesk', 'BelkinNPlusRouter', 'XBox', 'NaS', 'SnapShot', 'PcCrashes', 'SonyVaioVGNFE11S', 'FpS', 'DotNet', 'LinksysWAG320N', 'DiskPartitions', 'ConsoleGame', 'GraphicsCard', 'FireFox', 'StartupTodos', 'BlueScreenOfDeath', 'JDesktop', 'FileTagging', 'LinuxSsdSettings', 'LinuxPartitions', 'HuaweiWifi', 'JPaq', 'VodafoneZteK3520z', 'VodacomK3715', 'MacNTFS', 'SSd', 'WindowsCmdLine', 'VirtualBox', 'AspireOne', 'CellPhone', 'LeratoPC', 'JWikiOnSdCard', 'OczSSD', 'PortableApps', 'InstallOsX', 'SamsungGalaxyS', 'InstantMessaging', 'HomeNetwork'])\n",
      "\n",
      "ps2 (IntersectionOf(pn1,pn2)- count = 6\n",
      "set(['SonyZ505RX', 'OczSSD', 'ChangeSataDrive', 'AppleMac', 'MacBookPro', 'AspireOne'])\n",
      "\n",
      "ps3 (DifferenceOf(pn1,pn2)- count = 22\n",
      "set(['AirDroid', 'SamsungGalaxyS5', 'LinuxDiskCheck', 'UbuntuSuspendIssue', 'DovadoUMR', 'OldJDesk', 'BelkinNPlusRouter', 'XBox', 'NaS', 'SonyVaioVGNFE11S', 'LinksysWAG320N', 'ConsoleGame', 'JDesktop', 'LinuxSsdSettings', 'HuaweiWifi', 'JPaq', 'VodafoneZteK3520z', 'VodacomK3715', 'SSd', 'CellPhone', 'JWikiOnSdCard', 'SamsungGalaxyS'])\n"
     ]
    }
   ],
   "source": [
    "# w = WikidWiki('TestWiki')\n",
    "# w = WikidWiki('BadTestWiki')\n",
    "# w.getAllWikiPageNames()\n",
    "\n",
    "#JWiki test:\n",
    "\n",
    "# wik = WikidWiki(\"/Users/jaysen/DEV/Projects/WikidLib/NewtWiki\")\n",
    "# print wik.pageCount\n",
    "\n",
    "jwik = WikidWiki(\"/Users/jaysen/DEV/Projects/WikidLib/JWiki\")\n",
    "print \"pagecount = %i\" % jwik.pageCount\n",
    "\n",
    "s1 = \"[tag:hardware\"\n",
    "s2 = \"[tag:pc\"\n",
    "pn1 = jwik.getPageNamesContainingSearchString(s1)\n",
    "pn2 = jwik.getPageNamesContainingSearchString(s2)\n",
    "\n",
    "print \"Some searches:\"\n",
    "print \"pn1 searched by '%s' count = %i\" % (s1,len(pn1)) \n",
    "print pn1\n",
    "print\n",
    "print \"pn2 searched by '%s' - count = %i\" % (s2,len(pn2))\n",
    "print pn2\n",
    "print\n",
    "\n",
    "ps1 = jwik.getSetUnionOfPageNameLists(pn1,pn2)\n",
    "print \"ps1 (UnionOf(pn1,pn2)- count = %i\" % len(ps1)\n",
    "print ps1\n",
    "print\n",
    "ps2 = jwik.getSetIntersectionOfPageNameLists(pn1,pn2)\n",
    "print \"ps2 (IntersectionOf(pn1,pn2)- count = %i\" % len(ps2)\n",
    "print ps2\n",
    "print\n",
    "ps3 = jwik.getSetDifferenceOfPageNameLists(pn1,pn2)\n",
    "print \"ps3 (DifferenceOf(pn1,pn2)- count = %i\" % len(ps3)\n",
    "print ps3"
   ]
  },
  {
   "cell_type": "markdown",
   "metadata": {},
   "source": [
    "# Automated Tests:"
   ]
  },
  {
   "cell_type": "code",
   "execution_count": 11,
   "metadata": {
    "collapsed": false
   },
   "outputs": [
    {
     "name": "stdout",
     "output_type": "stream",
     "text": [
      "class <__main__.WikidWiki object at 0x10415db90> - PASSED ALL TESTS\n"
     ]
    }
   ],
   "source": [
    "#TESTS\n",
    "from nose.tools import assert_equal\n",
    "from nose.tools import assert_items_equal\n",
    "\n",
    "\n",
    "\n",
    "class WikidWikiClassTest(object):\n",
    "    \n",
    "    def test(self):      \n",
    "        tc = WikidWiki('TestWiki')\n",
    "        \n",
    "        assert_equal(tc.pageNames,['TestOne', 'TestThree', 'TestTwo'])\n",
    "        assert_equal(tc.pageCount,3)\n",
    "        \n",
    "        assert_items_equal(tc.getMatchingPageNamesByFunction(PageNameContainsStringOne),['TestOne'])\n",
    "        assert_items_equal(tc.getMatchingPageNamesByFunction(PageNameContainsString,'Two'),['TestTwo'])\n",
    "        assert_items_equal(tc.getMatchingPageNamesByFunction(PageNameContainsString,'Three'),['TestThree'])\n",
    "        assert_items_equal(tc.getMatchingPageNamesByFunction(PageNameContainsString,'Test'),['TestOne','TestTwo','TestThree'])\n",
    "        \n",
    "        print 'class ' + str(tc) + ' - PASSED ALL TESTS'\n",
    "                     \n",
    "#run tests\n",
    "def PageNameContainsStringOne(pageName):\n",
    "    return 'One' in pageName\n",
    "\n",
    "def PageNameContainsString(s,pageName):\n",
    "    return s in pageName\n",
    "\n",
    "t = WikidWikiClassTest()\n",
    "t.test()\n"
   ]
  },
  {
   "cell_type": "markdown",
   "metadata": {},
   "source": [
    "## PageNameSet Class"
   ]
  },
  {
   "cell_type": "code",
   "execution_count": 94,
   "metadata": {
    "collapsed": false
   },
   "outputs": [],
   "source": [
    "class PageNameSet (object):\n",
    "    \n",
    "    def __init__(self,pageName):\n",
    "        \n",
    "        self.filePath\n",
    "        self.\n",
    "        \n",
    "        \n",
    "        "
   ]
  }
 ],
 "metadata": {
  "celltoolbar": "Raw Cell Format",
  "kernelspec": {
   "display_name": "Python 2",
   "language": "python",
   "name": "python2"
  },
  "language_info": {
   "codemirror_mode": {
    "name": "ipython",
    "version": 2
   },
   "file_extension": ".py",
   "mimetype": "text/x-python",
   "name": "python",
   "nbconvert_exporter": "python",
   "pygments_lexer": "ipython2",
   "version": "2.7.11"
  }
 },
 "nbformat": 4,
 "nbformat_minor": 0
}
