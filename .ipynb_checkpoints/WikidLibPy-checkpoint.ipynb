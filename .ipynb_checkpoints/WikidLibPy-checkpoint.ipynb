{
 "cells": [
  {
   "cell_type": "markdown",
   "metadata": {},
   "source": [
    "# WikidLib Python Notebook\n",
    "\n",
    "## WikidLib\n",
    "WikidPad Extensions and Helper library for WikidPad. \n",
    "Incorporates the older projects:WikidSets, WikidTags, etc.\n",
    "\n",
    "## Initial Features\n",
    "Simple text based appending to wikipages, creating the WikiPage if necessary.\n",
    "Will be invoked by AlfredScript and CommandLine and store in a flat-file local wiki, like WikidPad\n",
    " \n",
    "#### WikidWorker\n",
    "    * FindWiki (wiki_name) ??\n",
    "    * IsWiki ( folder_path) --> true if there is a wiki there\n",
    "    * OpenWiki (folder_path) --> returns a WikiClass\n",
    "    * CopyWiki (folder_path_src, folder_path_dest)\n",
    "    * CopyWikiPageSet (wikipage_set, src_wiki, destination_wiki)\n",
    "\n",
    "#### WikidClass\n",
    "     * SetDataFolder (folder_path)\n",
    "     * GetWikiPage (wikipage_name)\n",
    "     * CreateWikiPage (wikipage_name)\n",
    "     * GetWikiPageAsString()\n",
    "     * SetWikiPageFromString(new_page_as_string)\n",
    "     * GetPageSet (Tag_Set)\n",
    "     * GetPageSet (Category_Set)\n",
    "     * GetPageSet (list_of_page_names)\n",
    "     * GetAllPages () --> returns all pages\n",
    "\n",
    "\n",
    "# another spec. ..\n",
    "\n",
    "\n",
    "## Functions / Methods\n",
    "    [/GetPageList]\n",
    "    [/FindPages]\n",
    "    [/SearchPages]\n",
    "    [/MakeSubPage]\n",
    "\n",
    "    WikidpadOpenPage / [/OpenPage]  [//WikidLib/OpenPage]\n",
    "    [/IsAlias]\n",
    "    [/FindAliased]\n",
    "\n",
    "### tag / category functions\n",
    "    Convert from WikidpadTags to WikidpadCategories and vice versa\n",
    "    [/FindTagOrCategory]\n",
    "    [/RenameTag]\n",
    "\n",
    "### symantic\n",
    "    [/MetaTagFunctions]\n",
    "\n",
    "### interwikis\n",
    "    [/MovePage] (to another wiki)\n",
    "    [/CopyPage] (to another wiki)"
   ]
  },
  {
   "cell_type": "markdown",
   "metadata": {},
   "source": [
    "# TESTS and Proof of Concepts\n",
    "\n",
    "## ReadFileSystem"
   ]
  },
  {
   "cell_type": "code",
   "execution_count": 1,
   "metadata": {
    "collapsed": true
   },
   "outputs": [],
   "source": [
    "import sys"
   ]
  },
  {
   "cell_type": "code",
   "execution_count": 4,
   "metadata": {
    "collapsed": true
   },
   "outputs": [],
   "source": [
    "def ReadFileSystem():\n",
    "    #find out if we can touch file system from Jupyter\n",
    "    f = open('test.txt', 'w')\n",
    "    f.write('This is a test\\n')\n",
    "\n",
    "ReadFileSystem()"
   ]
  },
  {
   "cell_type": "markdown",
   "metadata": {},
   "source": [
    "... takes over from ... PyWikiWorker (was going to be WikiThing)\n",
    "\n",
    "Python tools for working with wikis. Initially will focus on standalone text based wikis - and have an interface implemented for WikidPad.\n",
    "\n",
    "## Initial Features\n",
    "Simple text based appending to wikipages, creating the WikiPage if necessary.\n",
    "Will be invoked by AlfredScript and CommandLine and store in a flat-file local wiki, like WikidPad\n",
    " \n",
    "#### WikiWorkerClass\n",
    "* FindWiki (wiki_name)\n",
    "* OpenWiki (folder_path) --> returns a WikiClass\n",
    "* CopyWiki (folder_path_src, folder_path_dest)\n",
    "* CopyWikiPageSet (wikipage_set, src_wiki, destination_wiki)\n",
    "\n",
    "#### WikiClass\n",
    " * SetDataFolder (folder_path)\n",
    " * GetWikiPage (wikipage_name)\n",
    " * CreateWikiPage (wikipage_name)\n",
    " * GetWikiPageAsString()\n",
    " * SetWikiPageFromString(new_page_as_string)\n",
    " * GetPageSet (Tag_Set)\n",
    " * GetPageSet (Category_Set)\n",
    " * GetPageSet (list_of_page_names)\n",
    " * GetAllPages () --> returns all pages\n",
    " \n",
    " \n",
    "## Potential Features / Down the line\n",
    "Has potential to grow to a set of tools + library + GUI tools for doing Wiki related tasks, and for advanced mining, browsing and searching of a wiki."
   ]
  },
  {
   "cell_type": "code",
   "execution_count": null,
   "metadata": {
    "collapsed": true
   },
   "outputs": [],
   "source": []
  }
 ],
 "metadata": {
  "kernelspec": {
   "display_name": "Python 2",
   "language": "python",
   "name": "python2"
  },
  "language_info": {
   "codemirror_mode": {
    "name": "ipython",
    "version": 2
   },
   "file_extension": ".py",
   "mimetype": "text/x-python",
   "name": "python",
   "nbconvert_exporter": "python",
   "pygments_lexer": "ipython2",
   "version": "2.7.11"
  }
 },
 "nbformat": 4,
 "nbformat_minor": 0
}
