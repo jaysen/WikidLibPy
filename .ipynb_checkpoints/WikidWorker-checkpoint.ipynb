{
 "cells": [
  {
   "cell_type": "markdown",
   "metadata": {},
   "source": [
    "# WikidWorker Module or Class(?)\n",
    "\n",
    "## methods:\n",
    "\n",
    "**hasWiki ( folder_path):**\n",
    "    true if there is a wiki there\n",
    "\n",
    "**openWiki (folder_path):**\n",
    "    returns a WikidWiki Class\n",
    "\n",
    "**copyWiki (folder_path_src, folder_path_dest):**\n",
    "\n",
    "**copyWikiPageSet (wikipage_set, src_wiki, destination_wiki):**"
   ]
  },
  {
   "cell_type": "code",
   "execution_count": 110,
   "metadata": {
    "collapsed": false
   },
   "outputs": [],
   "source": [
    "# hasWiki ( folder_path): true if there is a wiki there\n",
    "\n",
    "import os,glob\n",
    "\n",
    "\n",
    "def hasTopWikiFile(folder_path):\n",
    "    return len(glob.glob(folder_path+'/*.wiki')) > 0\n",
    "\n",
    "def hasWikiDataFolder(folder_path):\n",
    "    return len(glob.glob(folder_path+'/data/*.wiki')) > 0\n",
    "\n",
    "def hasWiki (folder_path):\n",
    "    hasFolder = hasWikiDataFolder(folder_path) \n",
    "    print 'hasFolder : ' + hasFolder\n",
    "    print 'hasTopFile : ' + hasTopFile\n",
    "    hasTopFile = hasTopWikiFile(folder_path)\n",
    "    return (hasTopFile and hasFolder)"
   ]
  },
  {
   "cell_type": "code",
   "execution_count": 109,
   "metadata": {
    "collapsed": false
   },
   "outputs": [
    {
     "name": "stdout",
     "output_type": "stream",
     "text": [
      "<function hasWiki at 0x104068e60>PASSED ALL TESTS\n"
     ]
    }
   ],
   "source": [
    "#TESTS\n",
    "\n",
    "from nose.tools import assert_equal\n",
    "\n",
    "class FunctionTest(object):\n",
    "    \n",
    "    def test(self,func):        \n",
    "        assert_equal(func('TestWiki'),True)\n",
    "        assert_equal(func('NoTestWiki'),False)\n",
    "        assert_equal(func('BadTestWiki'),False)      \n",
    "        \n",
    "        print str(func) + 'PASSED ALL TESTS'\n",
    "                     \n",
    "#run tests\n",
    "t = FunctionTest()\n",
    "t.test(hasWiki)\n",
    "\n"
   ]
  },
  {
   "cell_type": "code",
   "execution_count": null,
   "metadata": {
    "collapsed": true
   },
   "outputs": [],
   "source": []
  }
 ],
 "metadata": {
  "kernelspec": {
   "display_name": "Python 2",
   "language": "python",
   "name": "python2"
  },
  "language_info": {
   "codemirror_mode": {
    "name": "ipython",
    "version": 2
   },
   "file_extension": ".py",
   "mimetype": "text/x-python",
   "name": "python",
   "nbconvert_exporter": "python",
   "pygments_lexer": "ipython2",
   "version": "2.7.11"
  }
 },
 "nbformat": 4,
 "nbformat_minor": 0
}
